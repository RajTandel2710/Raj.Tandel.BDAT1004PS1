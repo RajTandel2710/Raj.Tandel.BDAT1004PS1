{
 "cells": [
  {
   "cell_type": "markdown",
   "id": "972419e6",
   "metadata": {},
   "source": [
    "# Question-1"
   ]
  },
  {
   "cell_type": "code",
   "execution_count": 25,
   "id": "d79591f8",
   "metadata": {},
   "outputs": [
    {
     "name": "stdout",
     "output_type": "stream",
     "text": [
      "<class 'int'>\n",
      "<class 'float'>\n",
      "<class 'bool'>\n",
      "<class 'str'>\n",
      "<class 'int'>\n",
      "<class 'str'>\n",
      "<class 'str'>\n",
      "<class 'float'>\n",
      "<class 'int'>\n",
      "<class 'set'>\n",
      "<class 'bool'>\n",
      "<class 'float'>\n"
     ]
    }
   ],
   "source": [
    "import math\n",
    "print(type(5))\n",
    "print(type(5.0))\n",
    "print(type(5>1))\n",
    "print(type('5'))\n",
    "print(type(5 * 2))\n",
    "print(type('5'* 2))\n",
    "print(type('5' + '2'))\n",
    "print(type(5/2))\n",
    "print(type(5 %2))\n",
    "print(type({5,2,1}))\n",
    "print(type(5==3))\n",
    "print(type(math.pi))"
   ]
  },
  {
   "cell_type": "markdown",
   "id": "fdbd9ffd",
   "metadata": {},
   "source": [
    "# Question-2"
   ]
  },
  {
   "cell_type": "markdown",
   "id": "3442fc4c",
   "metadata": {},
   "source": [
    "## a & b"
   ]
  },
  {
   "cell_type": "code",
   "execution_count": 24,
   "id": "038f6a33",
   "metadata": {},
   "outputs": [
    {
     "name": "stdout",
     "output_type": "stream",
     "text": [
      "34\n",
      "True\n"
     ]
    }
   ],
   "source": [
    "# define the given word\n",
    "s='Supercalifragilisticexpialidocious'\n",
    "\n",
    "# count the letters in word\n",
    "print(len(s))\n",
    "# does string 'ice' contain in s\n",
    "print('ice'in s)"
   ]
  },
  {
   "cell_type": "markdown",
   "id": "8d43480d",
   "metadata": {},
   "source": [
    "## c"
   ]
  },
  {
   "cell_type": "code",
   "execution_count": 23,
   "id": "a59a4449",
   "metadata": {},
   "outputs": [
    {
     "name": "stdout",
     "output_type": "stream",
     "text": [
      "The longest word is Bababadalgharaghtakamminarronnkonn\n"
     ]
    }
   ],
   "source": [
    "# define the list of words\n",
    "words={'Supercalifragilisticexpialidocious','Honorificabilitudinitatibus','Bababadalgharaghtakamminarronnkonn'}\n",
    "longest_word=max(words,key=len)\n",
    "print('The longest word is', longest_word)"
   ]
  },
  {
   "cell_type": "markdown",
   "id": "0656dbf9",
   "metadata": {},
   "source": [
    "## d"
   ]
  },
  {
   "cell_type": "code",
   "execution_count": 22,
   "id": "24e21f4d",
   "metadata": {},
   "outputs": [
    {
     "name": "stdout",
     "output_type": "stream",
     "text": [
      "The First Composer in the list is  Bartok\n",
      "The Last Composer in the list is  Buxtehude\n"
     ]
    }
   ],
   "source": [
    "# define the list of words\n",
    "composers=['Berlioz','Borodin','Brian','Bartok','Bellini','Buxtehude','Bernstein']\n",
    "first_composer = min(composers)\n",
    "last_composer  = max(composers)\n",
    "print(\"The First Composer in the list is \",first_composer)\n",
    "print(\"The Last Composer in the list is \",last_composer)"
   ]
  },
  {
   "cell_type": "markdown",
   "id": "ec3b9845",
   "metadata": {},
   "source": [
    "# Question-3"
   ]
  },
  {
   "cell_type": "code",
   "execution_count": 21,
   "id": "44ea6052",
   "metadata": {},
   "outputs": [
    {
     "data": {
      "text/plain": [
       "1.7320508075688772"
      ]
     },
     "execution_count": 21,
     "metadata": {},
     "output_type": "execute_result"
    }
   ],
   "source": [
    "import math\n",
    "# define the function triangleArea\n",
    "def triangleArea(a,b,c):\n",
    "\n",
    "    s=(a + b + c) /2\n",
    "    # calculate the area of triangle\n",
    "    area = math.sqrt(s*(s-a)*(s-b)*(s-c))\n",
    "    return area\n",
    "triangleArea(2,2,2)"
   ]
  },
  {
   "cell_type": "markdown",
   "id": "800d0261",
   "metadata": {},
   "source": [
    "# Question-4"
   ]
  },
  {
   "cell_type": "code",
   "execution_count": 1,
   "id": "a1964ca9",
   "metadata": {},
   "outputs": [
    {
     "name": "stdout",
     "output_type": "stream",
     "text": [
      "Enter the number of element store in array :5\n",
      "Enter 5 element in array\n",
      "enter the element25\n",
      "enter the element47\n",
      "enter the element42\n",
      "enter the element56\n",
      "enter the element32\n",
      "The even Element are: [42, 56, 32]\n",
      "The odd element are: [25, 47]\n"
     ]
    }
   ],
   "source": [
    "array=int(input('Enter the number of element store in array :'))\n",
    "print('Enter' ,array ,'element in array' )\n",
    "new_list=[]\n",
    "for i in range(array):\n",
    "    value=input('enter the element')\n",
    "    new_list.append(int(value))\n",
    "    \n",
    "odd_Number=[]\n",
    "even_Number=[]\n",
    "for n in new_list:\n",
    "    if n % 2==0:\n",
    "        even_Number.append(n)\n",
    "    else:\n",
    "        odd_Number.append(n)\n",
    "print('The even Element are:',even_Number)\n",
    "print('The odd element are:', odd_Number)"
   ]
  },
  {
   "cell_type": "markdown",
   "id": "757e9306",
   "metadata": {},
   "source": [
    "# Question-5"
   ]
  },
  {
   "cell_type": "code",
   "execution_count": 19,
   "id": "b4c475de",
   "metadata": {},
   "outputs": [
    {
     "name": "stdout",
     "output_type": "stream",
     "text": [
      "True\n",
      "False\n",
      "False\n",
      "True\n"
     ]
    }
   ],
   "source": [
    "# part-a\n",
    "import math\n",
    "# define the inside function\n",
    "def inside(x,y,x1,y1,x2,y2):\n",
    "    if x1<=x <=x2 and y1<= y <=y2:\n",
    "        return True          \n",
    "    else :\n",
    "        return False\n",
    "print(inside(1,1,0,0,2,3))\n",
    "print(inside(-1,-1,0,0,2,3))\n",
    "\n",
    "# part- b\n",
    "# check point(1,1) inside or outside of rectangles with (0.3,0.5) and (1.1,0.7) ponts\n",
    "print(inside(1,1,0.3,0.5,1.1,0.7))\n",
    "print(inside(1,1,0.5,.2,1.1,2))"
   ]
  },
  {
   "cell_type": "markdown",
   "id": "cac04a11",
   "metadata": {},
   "source": [
    "# Question-6"
   ]
  },
  {
   "cell_type": "code",
   "execution_count": 40,
   "id": "acffc224",
   "metadata": {},
   "outputs": [
    {
     "name": "stdout",
     "output_type": "stream",
     "text": [
      "appyhay\n",
      "enterway\n"
     ]
    }
   ],
   "source": [
    "def pig(word):\n",
    "\n",
    "    word=word.lower()\n",
    "    for i in range(1):\n",
    "        if word[0] in {\"a\",\"e\",\"i\",\"o\",\"u\"}:\n",
    "            print (word + \"way\")\n",
    "        else :\n",
    "            print(word[1:]  + word[0] + \"ay\")\n",
    "pig(\"happy\")\n",
    "pig(\"Enter\")"
   ]
  },
  {
   "cell_type": "markdown",
   "id": "92607012",
   "metadata": {},
   "source": [
    "# QUESTION-7"
   ]
  },
  {
   "cell_type": "code",
   "execution_count": 6,
   "id": "65ba63bc",
   "metadata": {},
   "outputs": [
    {
     "name": "stdout",
     "output_type": "stream",
     "text": [
      " There are 15 patients of blood type A.\n",
      " There is 1patient of blood type B\n",
      " There are 13 patients of blood type AB.\n",
      " There are 15patients of blood type O.\n",
      " There are 0 patients of blood type OO.\n"
     ]
    }
   ],
   "source": [
    "def bldcount(filename):\n",
    "    file_name=open(filename)\n",
    "    blood_group=file_name.read()\n",
    "    \n",
    "    A=blood_group.split().count(\"A\")\n",
    "    B=blood_group.split().count(\"B\")\n",
    "    AB=blood_group.split().count(\"AB\")\n",
    "    O=blood_group.split().count(\"O\")\n",
    "    OO=blood_group.split().count(\"OO\")\n",
    "    \n",
    "    print(f\" There are {A} patients of blood type A.\")\n",
    "    print(f\" There is {B}patient of blood type B\")\n",
    "    print(f\" There are {AB} patients of blood type AB.\")\n",
    "    print(f\" There are {O}patients of blood type O.\")\n",
    "    print(f\" There are {OO} patients of blood type OO.\")\n",
    "bldcount(\"bloodtype1.txt\")"
   ]
  },
  {
   "cell_type": "markdown",
   "id": "de8ada5a",
   "metadata": {},
   "source": [
    "# Question-8"
   ]
  },
  {
   "cell_type": "code",
   "execution_count": 2,
   "id": "de626ae1",
   "metadata": {},
   "outputs": [
    {
     "name": "stdout",
     "output_type": "stream",
     "text": [
      "122.96544\n",
      "1.241401\n"
     ]
    }
   ],
   "source": [
    "def curconv(country, value):\n",
    "    file = open('currencies.txt')\n",
    "    currency = file.read().split(\"\\n\")\n",
    "    dictionary = {}\n",
    "    for i in currency:\n",
    "        i1 = i.split(\"\\t\")\n",
    "        dictionary[i1[0]] = i1[1]\n",
    "        \n",
    "    print(value * float(dictionary[country]))    \n",
    "    \n",
    "curconv('EUR', 100)  \n",
    "curconv('JPY',100)"
   ]
  },
  {
   "cell_type": "markdown",
   "id": "a59f0367",
   "metadata": {},
   "source": [
    "# Question-9"
   ]
  },
  {
   "cell_type": "code",
   "execution_count": null,
   "id": "44cd4352",
   "metadata": {},
   "outputs": [],
   "source": [
    "result=6 + 'a' # This will cause Type Error\n",
    "\n",
    "lst=[1,2,3,5,9,7,5,5.10]   # This will cause Index Error\n",
    "print(lst[12])\n",
    "\n",
    "import math               # This will cause Value Error\n",
    "s=math.sqrt(-1.0)\n",
    "\n",
    "y=a+b                      # This will  cause Name Error\n",
    "print(x)\n",
    "\n",
    "file=open(\"bdat\")          # This will cause FileNotFound Error"
   ]
  },
  {
   "cell_type": "markdown",
   "id": "e07f8832",
   "metadata": {},
   "source": [
    "# Question-10"
   ]
  },
  {
   "cell_type": "code",
   "execution_count": 30,
   "id": "3fa02dc9",
   "metadata": {},
   "outputs": [
    {
     "name": "stdout",
     "output_type": "stream",
     "text": [
      "[0, 1, 0, 0, 0, 0, 0, 0, 0, 0, 0, 0, 0, 0, 0, 0, 0, 0, 0, 0, 0, 0, 0, 0, 0, 0]\n",
      "[0, 1, 0, 0, 0, 0, 0, 0, 0, 0, 0, 0, 0, 0, 0, 0, 0, 0, 0, 0, 0, 0, 0, 0, 0, 0]\n"
     ]
    }
   ],
   "source": [
    "def frequencies(string):\n",
    "    words='abcdefghijklmnopqrstqvwxyz'\n",
    "    frequencies=[0]*26\n",
    "    string=string.lower()\n",
    "    for char in string:\n",
    "        if char in string:\n",
    "                count= words.count(char)\n",
    "                frequencies[count] +=1\n",
    "        return frequencies\n",
    "print(frequencies('The quick red fox got bored and went home.'))\n",
    "print(frequencies('apple'))\n",
    "            "
   ]
  }
 ],
 "metadata": {
  "kernelspec": {
   "display_name": "Python 3 (ipykernel)",
   "language": "python",
   "name": "python3"
  },
  "language_info": {
   "codemirror_mode": {
    "name": "ipython",
    "version": 3
   },
   "file_extension": ".py",
   "mimetype": "text/x-python",
   "name": "python",
   "nbconvert_exporter": "python",
   "pygments_lexer": "ipython3",
   "version": "3.11.4"
  }
 },
 "nbformat": 4,
 "nbformat_minor": 5
}
